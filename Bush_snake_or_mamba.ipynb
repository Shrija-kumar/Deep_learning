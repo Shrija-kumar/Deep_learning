{
  "nbformat": 4,
  "nbformat_minor": 0,
  "metadata": {
    "colab": {
      "name": "Bush snake or mamba.ipynb",
      "provenance": [],
      "collapsed_sections": [],
      "toc_visible": true
    },
    "kernelspec": {
      "name": "python3",
      "display_name": "Python 3"
    }
  },
  "cells": [
    {
      "cell_type": "markdown",
      "metadata": {
        "id": "3DR-eO17geWu"
      },
      "source": [
        "# Convolutional Neural Network"
      ]
    },
    {
      "cell_type": "markdown",
      "metadata": {
        "id": "EMefrVPCg-60"
      },
      "source": [
        "### Importing the libraries"
      ]
    },
    {
      "cell_type": "code",
      "metadata": {
        "id": "sCV30xyVhFbE"
      },
      "source": [
        "import tensorflow as tf\n",
        "from keras.preprocessing.image import ImageDataGenerator"
      ],
      "execution_count": 1,
      "outputs": []
    },
    {
      "cell_type": "code",
      "metadata": {
        "id": "FIleuCAjoFD8",
        "outputId": "47a4414e-e693-470c-d444-ec89c917ab3d",
        "colab": {
          "base_uri": "https://localhost:8080/",
          "height": 35
        }
      },
      "source": [
        "tf.__version__"
      ],
      "execution_count": 2,
      "outputs": [
        {
          "output_type": "execute_result",
          "data": {
            "application/vnd.google.colaboratory.intrinsic+json": {
              "type": "string"
            },
            "text/plain": [
              "'2.3.0'"
            ]
          },
          "metadata": {
            "tags": []
          },
          "execution_count": 2
        }
      ]
    },
    {
      "cell_type": "code",
      "metadata": {
        "id": "xc03lCXXn1eM",
        "outputId": "0a893296-7eee-457c-e2a4-49f40a280819",
        "colab": {
          "base_uri": "https://localhost:8080/",
          "height": 34
        }
      },
      "source": [
        "from google.colab import drive\n",
        "drive.mount('/content/drive')"
      ],
      "execution_count": 4,
      "outputs": [
        {
          "output_type": "stream",
          "text": [
            "Mounted at /content/drive\n"
          ],
          "name": "stdout"
        }
      ]
    },
    {
      "cell_type": "code",
      "metadata": {
        "id": "71bvXJ1_ou83",
        "outputId": "7ef04b03-7fd0-490a-da3f-ddc0951fe1d7",
        "colab": {
          "base_uri": "https://localhost:8080/",
          "height": 35
        }
      },
      "source": [
        "import os\n",
        "os.chdir(\"/content/drive/My Drive\")\n",
        "os.getcwd()"
      ],
      "execution_count": 10,
      "outputs": [
        {
          "output_type": "execute_result",
          "data": {
            "application/vnd.google.colaboratory.intrinsic+json": {
              "type": "string"
            },
            "text/plain": [
              "'/content/drive/My Drive'"
            ]
          },
          "metadata": {
            "tags": []
          },
          "execution_count": 10
        }
      ]
    },
    {
      "cell_type": "markdown",
      "metadata": {
        "id": "oxQxCBWyoGPE"
      },
      "source": [
        "## Part 1 - Data Preprocessing"
      ]
    },
    {
      "cell_type": "markdown",
      "metadata": {
        "id": "MvE-heJNo3GG"
      },
      "source": [
        "### Preprocessing the Training set"
      ]
    },
    {
      "cell_type": "code",
      "metadata": {
        "id": "0koUcJMJpEBD",
        "outputId": "7e237c5f-decb-4bd9-8f6e-64a3ad51386a",
        "colab": {
          "base_uri": "https://localhost:8080/",
          "height": 34
        }
      },
      "source": [
        "train_datagen = ImageDataGenerator(rescale = 1./255,\n",
        "                                   shear_range = 0.2,\n",
        "                                   zoom_range = 0.2,\n",
        "                                   horizontal_flip = True)\n",
        "training_set = train_datagen.flow_from_directory('snakedata/training_set',\n",
        "                                                 target_size = (64, 64),\n",
        "                                                 batch_size = 5,\n",
        "                                                 class_mode = 'binary')"
      ],
      "execution_count": 25,
      "outputs": [
        {
          "output_type": "stream",
          "text": [
            "Found 20 images belonging to 2 classes.\n"
          ],
          "name": "stdout"
        }
      ]
    },
    {
      "cell_type": "markdown",
      "metadata": {
        "id": "mrCMmGw9pHys"
      },
      "source": [
        "### Preprocessing the Test set"
      ]
    },
    {
      "cell_type": "code",
      "metadata": {
        "id": "SH4WzfOhpKc3",
        "outputId": "e426edd9-80e2-4820-825b-639438adbfec",
        "colab": {
          "base_uri": "https://localhost:8080/",
          "height": 34
        }
      },
      "source": [
        "test_datagen = ImageDataGenerator(rescale = 1./255)\n",
        "test_set = test_datagen.flow_from_directory('snakedata/test_set',\n",
        "                                            target_size = (64, 64),\n",
        "                                            batch_size = 5,\n",
        "                                            class_mode = 'binary')"
      ],
      "execution_count": 27,
      "outputs": [
        {
          "output_type": "stream",
          "text": [
            "Found 20 images belonging to 2 classes.\n"
          ],
          "name": "stdout"
        }
      ]
    },
    {
      "cell_type": "markdown",
      "metadata": {
        "id": "af8O4l90gk7B"
      },
      "source": [
        "## Part 2 - Building the CNN"
      ]
    },
    {
      "cell_type": "markdown",
      "metadata": {
        "id": "ces1gXY2lmoX"
      },
      "source": [
        "### Initialising the CNN"
      ]
    },
    {
      "cell_type": "code",
      "metadata": {
        "id": "SAUt4UMPlhLS"
      },
      "source": [
        "cnn = tf.keras.models.Sequential()"
      ],
      "execution_count": 28,
      "outputs": []
    },
    {
      "cell_type": "markdown",
      "metadata": {
        "id": "u5YJj_XMl5LF"
      },
      "source": [
        "### Step 1 - Convolution"
      ]
    },
    {
      "cell_type": "code",
      "metadata": {
        "id": "XPzPrMckl-hV"
      },
      "source": [
        "cnn.add(tf.keras.layers.Conv2D(filters=32, kernel_size=3, activation='relu', input_shape=[64, 64, 3]))"
      ],
      "execution_count": 29,
      "outputs": []
    },
    {
      "cell_type": "markdown",
      "metadata": {
        "id": "tf87FpvxmNOJ"
      },
      "source": [
        "### Step 2 - Pooling"
      ]
    },
    {
      "cell_type": "code",
      "metadata": {
        "id": "ncpqPl69mOac"
      },
      "source": [
        "cnn.add(tf.keras.layers.MaxPool2D(pool_size=2, strides=2))"
      ],
      "execution_count": 30,
      "outputs": []
    },
    {
      "cell_type": "markdown",
      "metadata": {
        "id": "xaTOgD8rm4mU"
      },
      "source": [
        "### Adding a second convolutional layer"
      ]
    },
    {
      "cell_type": "code",
      "metadata": {
        "id": "i_-FZjn_m8gk"
      },
      "source": [
        "cnn.add(tf.keras.layers.Conv2D(filters=32, kernel_size=3, activation='relu'))\n",
        "cnn.add(tf.keras.layers.MaxPool2D(pool_size=2, strides=2))"
      ],
      "execution_count": 31,
      "outputs": []
    },
    {
      "cell_type": "markdown",
      "metadata": {
        "id": "tmiEuvTunKfk"
      },
      "source": [
        "### Step 3 - Flattening"
      ]
    },
    {
      "cell_type": "code",
      "metadata": {
        "id": "6AZeOGCvnNZn"
      },
      "source": [
        "cnn.add(tf.keras.layers.Flatten())"
      ],
      "execution_count": 32,
      "outputs": []
    },
    {
      "cell_type": "markdown",
      "metadata": {
        "id": "dAoSECOm203v"
      },
      "source": [
        "### Step 4 - Full Connection"
      ]
    },
    {
      "cell_type": "code",
      "metadata": {
        "id": "8GtmUlLd26Nq"
      },
      "source": [
        "cnn.add(tf.keras.layers.Dense(units=128, activation='relu'))"
      ],
      "execution_count": 33,
      "outputs": []
    },
    {
      "cell_type": "markdown",
      "metadata": {
        "id": "yTldFvbX28Na"
      },
      "source": [
        "### Step 5 - Output Layer"
      ]
    },
    {
      "cell_type": "code",
      "metadata": {
        "id": "1p_Zj1Mc3Ko_"
      },
      "source": [
        "cnn.add(tf.keras.layers.Dense(units=1, activation='sigmoid'))"
      ],
      "execution_count": 34,
      "outputs": []
    },
    {
      "cell_type": "markdown",
      "metadata": {
        "id": "D6XkI90snSDl"
      },
      "source": [
        "## Part 3 - Training the CNN"
      ]
    },
    {
      "cell_type": "markdown",
      "metadata": {
        "id": "vfrFQACEnc6i"
      },
      "source": [
        "### Compiling the CNN"
      ]
    },
    {
      "cell_type": "code",
      "metadata": {
        "id": "NALksrNQpUlJ"
      },
      "source": [
        "cnn.compile(optimizer = 'adam', loss = 'binary_crossentropy', metrics = ['accuracy'])"
      ],
      "execution_count": 35,
      "outputs": []
    },
    {
      "cell_type": "markdown",
      "metadata": {
        "id": "ehS-v3MIpX2h"
      },
      "source": [
        "### Training the CNN on the Training set and evaluating it on the Test set"
      ]
    },
    {
      "cell_type": "code",
      "metadata": {
        "id": "XUj1W4PJptta",
        "outputId": "729709d5-3737-47d5-b9ea-e373ac9f9a98",
        "colab": {
          "base_uri": "https://localhost:8080/",
          "height": 904
        }
      },
      "source": [
        "cnn.fit(x = training_set, validation_data = test_set, epochs = 25)"
      ],
      "execution_count": 36,
      "outputs": [
        {
          "output_type": "stream",
          "text": [
            "Epoch 1/25\n",
            "4/4 [==============================] - 0s 86ms/step - loss: 0.7112 - accuracy: 0.5500 - val_loss: 0.6634 - val_accuracy: 0.5000\n",
            "Epoch 2/25\n",
            "4/4 [==============================] - 0s 61ms/step - loss: 0.6850 - accuracy: 0.5000 - val_loss: 0.6377 - val_accuracy: 0.7000\n",
            "Epoch 3/25\n",
            "4/4 [==============================] - 0s 61ms/step - loss: 0.6177 - accuracy: 0.8000 - val_loss: 0.6293 - val_accuracy: 0.7500\n",
            "Epoch 4/25\n",
            "4/4 [==============================] - 0s 61ms/step - loss: 0.5264 - accuracy: 0.8500 - val_loss: 0.5771 - val_accuracy: 0.6500\n",
            "Epoch 5/25\n",
            "4/4 [==============================] - 0s 57ms/step - loss: 0.4932 - accuracy: 0.8000 - val_loss: 0.6087 - val_accuracy: 0.7000\n",
            "Epoch 6/25\n",
            "4/4 [==============================] - 0s 62ms/step - loss: 0.4903 - accuracy: 0.8500 - val_loss: 0.7136 - val_accuracy: 0.6500\n",
            "Epoch 7/25\n",
            "4/4 [==============================] - 0s 60ms/step - loss: 0.4601 - accuracy: 0.7000 - val_loss: 0.8974 - val_accuracy: 0.7000\n",
            "Epoch 8/25\n",
            "4/4 [==============================] - 0s 60ms/step - loss: 0.4800 - accuracy: 0.8000 - val_loss: 0.8091 - val_accuracy: 0.7000\n",
            "Epoch 9/25\n",
            "4/4 [==============================] - 0s 60ms/step - loss: 0.4203 - accuracy: 0.8000 - val_loss: 0.7943 - val_accuracy: 0.7500\n",
            "Epoch 10/25\n",
            "4/4 [==============================] - 0s 63ms/step - loss: 0.3437 - accuracy: 0.9000 - val_loss: 0.6913 - val_accuracy: 0.6000\n",
            "Epoch 11/25\n",
            "4/4 [==============================] - 0s 59ms/step - loss: 0.5127 - accuracy: 0.7500 - val_loss: 0.7998 - val_accuracy: 0.6000\n",
            "Epoch 12/25\n",
            "4/4 [==============================] - 0s 64ms/step - loss: 0.2728 - accuracy: 0.9000 - val_loss: 0.7993 - val_accuracy: 0.7000\n",
            "Epoch 13/25\n",
            "4/4 [==============================] - 0s 58ms/step - loss: 0.2408 - accuracy: 0.9500 - val_loss: 0.8566 - val_accuracy: 0.6500\n",
            "Epoch 14/25\n",
            "4/4 [==============================] - 0s 60ms/step - loss: 0.2365 - accuracy: 0.9000 - val_loss: 0.8245 - val_accuracy: 0.6500\n",
            "Epoch 15/25\n",
            "4/4 [==============================] - 0s 63ms/step - loss: 0.1615 - accuracy: 1.0000 - val_loss: 0.8899 - val_accuracy: 0.6000\n",
            "Epoch 16/25\n",
            "4/4 [==============================] - 0s 57ms/step - loss: 0.1327 - accuracy: 1.0000 - val_loss: 1.0078 - val_accuracy: 0.6000\n",
            "Epoch 17/25\n",
            "4/4 [==============================] - 0s 56ms/step - loss: 0.1331 - accuracy: 0.9500 - val_loss: 1.0439 - val_accuracy: 0.6000\n",
            "Epoch 18/25\n",
            "4/4 [==============================] - 0s 58ms/step - loss: 0.1219 - accuracy: 1.0000 - val_loss: 1.1460 - val_accuracy: 0.6000\n",
            "Epoch 19/25\n",
            "4/4 [==============================] - 0s 62ms/step - loss: 0.0341 - accuracy: 1.0000 - val_loss: 1.2552 - val_accuracy: 0.5500\n",
            "Epoch 20/25\n",
            "4/4 [==============================] - 0s 60ms/step - loss: 0.1041 - accuracy: 0.9500 - val_loss: 1.3136 - val_accuracy: 0.6000\n",
            "Epoch 21/25\n",
            "4/4 [==============================] - 0s 58ms/step - loss: 0.0542 - accuracy: 1.0000 - val_loss: 1.3855 - val_accuracy: 0.6000\n",
            "Epoch 22/25\n",
            "4/4 [==============================] - 0s 57ms/step - loss: 0.0853 - accuracy: 1.0000 - val_loss: 1.4694 - val_accuracy: 0.6000\n",
            "Epoch 23/25\n",
            "4/4 [==============================] - 0s 53ms/step - loss: 0.0491 - accuracy: 1.0000 - val_loss: 1.5739 - val_accuracy: 0.5500\n",
            "Epoch 24/25\n",
            "4/4 [==============================] - 0s 62ms/step - loss: 0.0742 - accuracy: 1.0000 - val_loss: 1.5441 - val_accuracy: 0.6000\n",
            "Epoch 25/25\n",
            "4/4 [==============================] - 0s 58ms/step - loss: 0.0403 - accuracy: 1.0000 - val_loss: 1.6889 - val_accuracy: 0.5500\n"
          ],
          "name": "stdout"
        },
        {
          "output_type": "execute_result",
          "data": {
            "text/plain": [
              "<tensorflow.python.keras.callbacks.History at 0x7ff615492c50>"
            ]
          },
          "metadata": {
            "tags": []
          },
          "execution_count": 36
        }
      ]
    },
    {
      "cell_type": "markdown",
      "metadata": {
        "id": "U3PZasO0006Z"
      },
      "source": [
        "## Part 4 - Making a single prediction"
      ]
    },
    {
      "cell_type": "code",
      "metadata": {
        "id": "sE1PWpfswxGW",
        "outputId": "56a2725f-f3ee-401d-c9d1-6848b1a5e08a",
        "colab": {
          "base_uri": "https://localhost:8080/",
          "height": 34
        }
      },
      "source": [
        "print(training_set.class_indices)"
      ],
      "execution_count": 39,
      "outputs": [
        {
          "output_type": "stream",
          "text": [
            "{'bushsnake': 0, 'mamba': 1}\n"
          ],
          "name": "stdout"
        }
      ]
    },
    {
      "cell_type": "code",
      "metadata": {
        "id": "VFgLQrt7w93p",
        "outputId": "42264566-911d-4935-ad5f-bc45690e1f3a",
        "colab": {
          "base_uri": "https://localhost:8080/",
          "height": 34
        }
      },
      "source": [
        "print(test_set.class_indices)"
      ],
      "execution_count": 40,
      "outputs": [
        {
          "output_type": "stream",
          "text": [
            "{'bushsnake': 0, 'mamba': 1}\n"
          ],
          "name": "stdout"
        }
      ]
    },
    {
      "cell_type": "code",
      "metadata": {
        "id": "gsSiWEJY1BPB"
      },
      "source": [
        "import numpy as np\n",
        "from keras.preprocessing import image\n",
        "test_image = image.load_img('greenmamba.jpg', target_size = (64, 64))\n",
        "test_image = image.img_to_array(test_image)\n",
        "test_image = np.expand_dims(test_image, axis = 0)\n",
        "result = cnn.predict(test_image)\n",
        "training_set.class_indices\n",
        "if result[0][0] == 1:\n",
        "  prediction = 'Mamba'\n",
        "else:\n",
        "  prediction = 'Bush Snake'"
      ],
      "execution_count": 45,
      "outputs": []
    },
    {
      "cell_type": "code",
      "metadata": {
        "id": "ED9KB3I54c1i",
        "outputId": "2f6e2f10-6aa3-456c-f9fb-15186bb9e092",
        "colab": {
          "base_uri": "https://localhost:8080/",
          "height": 34
        }
      },
      "source": [
        "print(prediction)"
      ],
      "execution_count": 46,
      "outputs": [
        {
          "output_type": "stream",
          "text": [
            "Mamba\n"
          ],
          "name": "stdout"
        }
      ]
    }
  ]
}